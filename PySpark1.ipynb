{
  "nbformat": 4,
  "nbformat_minor": 0,
  "metadata": {
    "colab": {
      "provenance": [],
      "authorship_tag": "ABX9TyP8eSk+YX975E+u+H6W/pL4",
      "include_colab_link": true
    },
    "kernelspec": {
      "name": "python3",
      "display_name": "Python 3"
    },
    "language_info": {
      "name": "python"
    }
  },
  "cells": [
    {
      "cell_type": "markdown",
      "metadata": {
        "id": "view-in-github",
        "colab_type": "text"
      },
      "source": [
        "<a href=\"https://colab.research.google.com/github/dabarbosa10/data-science-from-scratch/blob/master/PySpark1.ipynb\" target=\"_parent\"><img src=\"https://colab.research.google.com/assets/colab-badge.svg\" alt=\"Open In Colab\"/></a>"
      ]
    },
    {
      "cell_type": "code",
      "execution_count": 3,
      "metadata": {
        "colab": {
          "base_uri": "https://localhost:8080/"
        },
        "id": "l8CwKwh-HPNM",
        "outputId": "937e76f0-d5c7-4895-dfe4-7c00e48a7464"
      },
      "outputs": [
        {
          "output_type": "stream",
          "name": "stdout",
          "text": [
            "4\n"
          ]
        }
      ],
      "source": [
        "#Defining lambda functions in Python\n",
        "g=lambda x: x**2\n",
        "print(g(2))"
      ]
    },
    {
      "cell_type": "code",
      "source": [
        "# map() applies a function to all items in the input list:\n",
        "# map(function, list)\n",
        "# Example:\n",
        "list1=[1,2,3,4]\n",
        "list2=list(map(g,list1))"
      ],
      "metadata": {
        "id": "e3KbsMMzHbBG"
      },
      "execution_count": 7,
      "outputs": []
    },
    {
      "cell_type": "code",
      "source": [
        "list2"
      ],
      "metadata": {
        "colab": {
          "base_uri": "https://localhost:8080/"
        },
        "id": "USb5Spr2MDWJ",
        "outputId": "792a7372-a7e9-4405-e2c7-143837ea8302"
      },
      "execution_count": 8,
      "outputs": [
        {
          "output_type": "execute_result",
          "data": {
            "text/plain": [
              "[1, 4, 9, 16]"
            ]
          },
          "metadata": {},
          "execution_count": 8
        }
      ]
    },
    {
      "cell_type": "code",
      "source": [],
      "metadata": {
        "id": "Tabb-WVqMIN0"
      },
      "execution_count": null,
      "outputs": []
    }
  ]
}